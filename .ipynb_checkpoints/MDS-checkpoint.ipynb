{
 "cells": [
  {
   "cell_type": "markdown",
   "metadata": {},
   "source": [
    "# Escalamiento multidimensional\n",
    "#### Por Camilo A. Aguilar L.\n",
    "El Escalamiento Multidimensional es una técnica de análisis multivariante que, partiendo de una matriz de distancias (o bien de similitudes) entre individuos, produce una representación de los individuos en una escala euclidea ordinaria de modo que las distancias en dicha escala se aproximen lo mejor posible a las distancias de partida.\n",
    "\n",
    "En ocasiones la información disponible es una medida de distancia o de discrepancia o diferencia entre individuos, mientras que en otras se dispone de una medida de similitud entre individuos. Se va a proporcionar una solución común tanto si los datos de partida son distancias como si son similitudes, pues de hecho será posible transformar una medida de similitud en una medida de distancia. \n",
    "\n",
    "En el presente **notebook** utilizaremos información de distancias en carretera y avión, entre 7 diferentes ciudades de Colombia, con el propósito de evaluar cuál de dichas medidas se asemeja más a las ubicaciones reales entre las ciudades dadas. Los datos se encuentran contenidos en el siguiente [enlace](http://es.distancias.himmera.com/distancia_entre_ciudades-colombia_mapas_carreteras) "
   ]
  },
  {
   "cell_type": "code",
   "execution_count": 1,
   "metadata": {},
   "outputs": [
    {
     "data": {
      "text/html": [
       "<table>\n",
       "<thead><tr><th></th><th scope=col>Pereira</th><th scope=col>Cucuta</th><th scope=col>Villavicencio</th><th scope=col>Cali</th><th scope=col>Pasto</th><th scope=col>Tunja</th><th scope=col>Ipiales</th></tr></thead>\n",
       "<tbody>\n",
       "\t<tr><th scope=row>Pereira</th><td>  0 </td><td> 761</td><td> 416</td><td>209 </td><td> 588</td><td> 467</td><td> 671</td></tr>\n",
       "\t<tr><th scope=row>Cucuta</th><td>761 </td><td>   0</td><td> 753</td><td>976 </td><td>1330</td><td> 416</td><td>1418</td></tr>\n",
       "\t<tr><th scope=row>Villavicencio</th><td>416 </td><td> 753</td><td>   0</td><td>561 </td><td> 821</td><td> 263</td><td>1018</td></tr>\n",
       "\t<tr><th scope=row>Cali</th><td>209 </td><td> 976</td><td> 561</td><td>  0 </td><td> 388</td><td> 611</td><td> 475</td></tr>\n",
       "\t<tr><th scope=row>Pasto</th><td>588 </td><td>1330</td><td> 821</td><td>388 </td><td>   0</td><td> 912</td><td>  82</td></tr>\n",
       "\t<tr><th scope=row>Tunja</th><td>467 </td><td> 416</td><td> 263</td><td>611 </td><td> 912</td><td>   0</td><td>1057</td></tr>\n",
       "\t<tr><th scope=row>Ipiales</th><td>671 </td><td>1418</td><td>1018</td><td>475 </td><td>  82</td><td>1057</td><td>   0</td></tr>\n",
       "</tbody>\n",
       "</table>\n"
      ],
      "text/latex": [
       "\\begin{tabular}{r|lllllll}\n",
       "  & Pereira & Cucuta & Villavicencio & Cali & Pasto & Tunja & Ipiales\\\\\n",
       "\\hline\n",
       "\tPereira &   0  &  761 &  416 & 209  &  588 &  467 &  671\\\\\n",
       "\tCucuta & 761  &    0 &  753 & 976  & 1330 &  416 & 1418\\\\\n",
       "\tVillavicencio & 416  &  753 &    0 & 561  &  821 &  263 & 1018\\\\\n",
       "\tCali & 209  &  976 &  561 &   0  &  388 &  611 &  475\\\\\n",
       "\tPasto & 588  & 1330 &  821 & 388  &    0 &  912 &   82\\\\\n",
       "\tTunja & 467  &  416 &  263 & 611  &  912 &    0 & 1057\\\\\n",
       "\tIpiales & 671  & 1418 & 1018 & 475  &   82 & 1057 &    0\\\\\n",
       "\\end{tabular}\n"
      ],
      "text/markdown": [
       "\n",
       "| <!--/--> | Pereira | Cucuta | Villavicencio | Cali | Pasto | Tunja | Ipiales | \n",
       "|---|---|---|---|---|---|---|\n",
       "| Pereira |   0  |  761 |  416 | 209  |  588 |  467 |  671 | \n",
       "| Cucuta | 761  |    0 |  753 | 976  | 1330 |  416 | 1418 | \n",
       "| Villavicencio | 416  |  753 |    0 | 561  |  821 |  263 | 1018 | \n",
       "| Cali | 209  |  976 |  561 |   0  |  388 |  611 |  475 | \n",
       "| Pasto | 588  | 1330 |  821 | 388  |    0 |  912 |   82 | \n",
       "| Tunja | 467  |  416 |  263 | 611  |  912 |    0 | 1057 | \n",
       "| Ipiales | 671  | 1418 | 1018 | 475  |   82 | 1057 |    0 | \n",
       "\n",
       "\n"
      ],
      "text/plain": [
       "              Pereira Cucuta Villavicencio Cali Pasto Tunja Ipiales\n",
       "Pereira         0      761    416          209   588   467   671   \n",
       "Cucuta        761        0    753          976  1330   416  1418   \n",
       "Villavicencio 416      753      0          561   821   263  1018   \n",
       "Cali          209      976    561            0   388   611   475   \n",
       "Pasto         588     1330    821          388     0   912    82   \n",
       "Tunja         467      416    263          611   912     0  1057   \n",
       "Ipiales       671     1418   1018          475    82  1057     0   "
      ]
     },
     "metadata": {},
     "output_type": "display_data"
    }
   ],
   "source": [
    "ciudades <- c(\"Pereira\", \"Cucuta\", \"Villavicencio\", \"Cali\", \"Pasto\", \"Tunja\", \"Ipiales\")\n",
    "D <- matrix(0,length(ciudades),length(ciudades))\n",
    "D[1, 2:7] <- c(761, 416, 209, 588, 467, 671)\n",
    "D[2, 3:7] <- c(753, 976, 1330, 416, 1418)#\n",
    "D[3, 4:7] <- c(561, 821, 263, 1018)\n",
    "D[4, 5:7] <- c(388, 611, 475)\n",
    "D[5, 6:7] <- c(912, 82)\n",
    "D[6, 7:7] <- c(1057)\n",
    "\n",
    "D <- D+t(D)\n",
    "colnames(D) <- ciudades\n",
    "rownames(D) <- ciudades\n",
    "\n",
    "D"
   ]
  },
  {
   "cell_type": "markdown",
   "metadata": {},
   "source": [
    "### Escalamiento para distancias por carretera\n",
    "El siguiente algoritmo realiza el escalamiento multidimensional de la matriz de distancias para las 7 ciudades. "
   ]
  },
  {
   "cell_type": "code",
   "execution_count": 2,
   "metadata": {},
   "outputs": [],
   "source": [
    "### Multi-Dimensional Scaling\n",
    "n <- length(ciudades)\n",
    "uno <- matrix(1,n,1)\n",
    "I <- diag(n)\n",
    "\n",
    "J <- I - (uno%*%t(uno))/n\n",
    "\n",
    "B <- - J%*%D^2%*%J/2\n",
    "\n",
    "eigen.B <- eigen(B, symmetric=TRUE)\n",
    "\n",
    "E <- eigen.B$vectors[,1:2]\n",
    "L <- matrix(0,2,2)\n",
    "diag(L) <- eigen.B$values[1:2]\n",
    "\n",
    "X <- E%*%sqrt(L)\n",
    "rownames(X) <- ciudades"
   ]
  },
  {
   "cell_type": "markdown",
   "metadata": {},
   "source": [
    "Obteniendo el siguiente resultado gráfico"
   ]
  },
  {
   "cell_type": "code",
   "execution_count": 3,
   "metadata": {},
   "outputs": [
    {
     "data": {
      "image/png": "[encoded data removed]",
      "text/plain": [
       "plot without title"
      ]
     },
     "metadata": {},
     "output_type": "display_data"
    }
   ],
   "source": [
    "mm <- max(abs(X))\n",
    "plot(X[,2], -X[,1], pch=16, ann = FALSE, bty=\"n\",\n",
    "     xaxt=\"n\",yaxt=\"n\",\n",
    "     ylim=c(-mm,mm)*1.2, xlim=c(-mm,mm)*1.2, asp=1)\n",
    "text(X[,2], -X[,1], ciudades, pos=3)"
   ]
  },
  {
   "cell_type": "markdown",
   "metadata": {},
   "source": [
    "### Escalamiento para distancias en avión\n",
    "El siguiente algoritmo realiza el escalamiento multidimensional de la matriz de distancias para las 7 ciudades. "
   ]
  },
  {
   "cell_type": "code",
   "execution_count": 4,
   "metadata": {},
   "outputs": [
    {
     "data": {
      "image/png": "[encoded data removed]",
      "text/plain": [
       "plot without title"
      ]
     },
     "metadata": {},
     "output_type": "display_data"
    }
   ],
   "source": [
    "### Multi-Dimensional Scaling\n",
    "n <- length(ciudades)\n",
    "uno <- matrix(1,n,1)\n",
    "I <- diag(n)\n",
    "\n",
    "J <- I - (uno%*%t(uno))/n\n",
    "\n",
    "B <- - J%*%D^2%*%J/2\n",
    "\n",
    "eigen.B <- eigen(B, symmetric=TRUE)\n",
    "\n",
    "E <- eigen.B$vectors[,1:2]\n",
    "L <- matrix(0,2,2)\n",
    "diag(L) <- eigen.B$values[1:2]\n",
    "\n",
    "X <- E%*%sqrt(L)\n",
    "rownames(X) <- ciudades\n",
    "\n",
    "## Gráfico del escalamiento\n",
    "mm <- max(abs(X))\n",
    "plot(-X[,2], -X[,1], pch=16, ann = FALSE, bty=\"n\",\n",
    "     xaxt=\"n\",yaxt=\"n\",\n",
    "     ylim=c(-mm,mm)*1.2, xlim=c(-mm,mm)*1.2, asp=1)\n",
    "text(-X[,2], -X[,1], ciudades, pos=3)"
   ]
  },
  {
   "cell_type": "markdown",
   "metadata": {},
   "source": [
    "Las distancias en avión son mucho mas cercanas a la realidad, lo que permitiría evaluar si las distancias asociadas en carretera, presentan dificultades entre las distintas ciudades. En el caso particular de las ciudades seleccionadas, puede apreciarse que la distancia en carretera es proporcional a la distancia entre las diferentes ciudades."
   ]
  }
 ],
 "metadata": {
  "kernelspec": {
   "display_name": "R",
   "language": "R",
   "name": "ir"
  },
  "language_info": {
   "codemirror_mode": "r",
   "file_extension": ".r",
   "mimetype": "text/x-r-source",
   "name": "R",
   "pygments_lexer": "r",
   "version": "3.4.3"
  }
 },
 "nbformat": 4,
 "nbformat_minor": 2
}
